{
  "nbformat": 4,
  "nbformat_minor": 0,
  "metadata": {
    "kernelspec": {
      "display_name": "Python 3",
      "language": "python",
      "name": "python3"
    },
    "language_info": {
      "codemirror_mode": {
        "name": "ipython",
        "version": 3
      },
      "file_extension": ".py",
      "mimetype": "text/x-python",
      "name": "python",
      "nbconvert_exporter": "python",
      "pygments_lexer": "ipython3",
      "version": "3.7.6"
    },
    "colab": {
      "name": "01 CNN untuk prediksi harga saham.ipynb",
      "provenance": [],
      "include_colab_link": true
    },
    "accelerator": "GPU"
  },
  "cells": [
    {
      "cell_type": "markdown",
      "metadata": {
        "id": "view-in-github",
        "colab_type": "text"
      },
      "source": [
        "<a href=\"https://colab.research.google.com/github/mazprimrez/MA4072-Pembelajaran-Mendalam-Deep-Learning-/blob/master/CNN_untuk_prediksi_harga_saham.ipynb\" target=\"_parent\"><img src=\"https://colab.research.google.com/assets/colab-badge.svg\" alt=\"Open In Colab\"/></a>"
      ]
    },
    {
      "cell_type": "markdown",
      "metadata": {
        "id": "jiN16ooKUvsj"
      },
      "source": [
        "#### Model Convolutional Neural Network (CNN) untuk memprediksi harga saham ####\n",
        "\n",
        "Biasanya model CNN digunakan untuk mengolah informasi terkait gambar. Kali ini agak pelik karena model CNN akan dipergunakan untuk memprediksi harga saham. \n",
        "\n",
        "Idenya datang dari data time series harga saham yang bisa diubah susunannya menjadi seperti data gambar yang berupa matriks. Data time series harga saham biasanya diambil pada saat **Close**, namun data time series harga saham masih dilengkapi dengan data-data lainnya, termasuk data time series harga saham pada saat **Open, Low, High** serta **Volume** transaksi. Bila masing-masing dari kelima data ini disusun seperti halnya sewaktu penyusunan data time series dengan **timesteps**, maka akan diperoleh matriks yang bisa diperlakukan seperti gambar sehingga bisa dipakai model CNN.\n",
        "\n",
        "Selain kelima jenis data tadi, masih banyak lagi data time series harian yang berupa *technical indicators* untuk mendampingi *technical analysis* bagi para pemain saham. Data ini bisa dicari di internet, misalnya di https://www.alphavantage.co/. Data seperti itu bisa pula ditambahkan dan kelak setelah diolah sesuai dengan timesteps maka akan diperoleh matriks yang bisa diperlalukan seperti gambar.\n",
        "\n",
        "Inilah ide dasar pengolahan model CNN untuk memprediksi harga saham. Hanya saja kali ini dibutuhkan variabel-variabel lain selain data tentang dirinya sendi. Kalau pemodelan time series harga saham dengan model MLP, RNN, LSTM maka hanya dibutuhkan data saham itu sendiri, tidak dibutuhkan data lainnya."
      ]
    },
    {
      "cell_type": "markdown",
      "metadata": {
        "id": "yt_U-j8DUvsn"
      },
      "source": [
        "#### Data Preparation ####\n",
        "\n",
        ">Berikut ini akan dibaca data harga saham BNI harian dari awal tahun 2003 \n",
        "sampai akhir tahun 2019. Data dibaca dengan Pandas sebagai data frame.\n",
        "Data dibersihkan dengan menghilangkan missing values dan data pada saat libur \n",
        "dengan jumlah volume transaksi sama dengan nol. Data dibersihkannya dengan Excel \n",
        "dan tetap disimpan lagi dalam format csv (column seperated values) agar \n",
        "mudah dibaca dengan Pandas.\n",
        ">\n",
        "> Data diambil dari Yahoo Finance: https://finance.yahoo.com/quote/BBNI.JK/history?p=BBNI.JK"
      ]
    },
    {
      "cell_type": "code",
      "metadata": {
        "id": "oHJEwLODVpfO",
        "outputId": "3611ccc5-e79f-4f93-eac9-6bba40c6c38a",
        "colab": {
          "base_uri": "https://localhost:8080/",
          "height": 122
        }
      },
      "source": [
        "from google.colab import drive\n",
        "drive.mount('/content/drive')"
      ],
      "execution_count": null,
      "outputs": [
        {
          "output_type": "stream",
          "text": [
            "Go to this URL in a browser: https://accounts.google.com/o/oauth2/auth?client_id=947318989803-6bn6qk8qdgf4n4g3pfee6491hc0brc4i.apps.googleusercontent.com&redirect_uri=urn%3aietf%3awg%3aoauth%3a2.0%3aoob&response_type=code&scope=email%20https%3a%2f%2fwww.googleapis.com%2fauth%2fdocs.test%20https%3a%2f%2fwww.googleapis.com%2fauth%2fdrive%20https%3a%2f%2fwww.googleapis.com%2fauth%2fdrive.photos.readonly%20https%3a%2f%2fwww.googleapis.com%2fauth%2fpeopleapi.readonly\n",
            "\n",
            "Enter your authorization code:\n",
            "··········\n",
            "Mounted at /content/drive\n"
          ],
          "name": "stdout"
        }
      ]
    },
    {
      "cell_type": "code",
      "metadata": {
        "id": "fjMoY8uTUvso",
        "outputId": "0bb8a14e-b5d2-4aa0-926c-271713608fc1",
        "colab": {
          "base_uri": "https://localhost:8080/",
          "height": 238
        }
      },
      "source": [
        "import pandas as pd\n",
        "import matplotlib.pyplot as plt\n",
        "from sklearn.preprocessing import MinMaxScaler, StandardScaler\n",
        "from sklearn.metrics import mean_squared_error, accuracy_score\n",
        "%matplotlib inline\n",
        "\n",
        "HargaSaham = pd.read_csv(\"/content/drive/My Drive/Colab Notebooks/BBNI 2003_2019 bersih.csv\")\n",
        "\n",
        "#Berikut ini contoh lima observasi pertama dari data harga saham BNI.\n",
        "#Terlihat, isinya berupa harga saham ketika Open, High, Low dan Close \n",
        "#serta jumlah Volume perdagangan setiap hari. Jadi ada lima variables \n",
        "#(features) yang diambil dari Yahoo.\n",
        "\n",
        "print('\\nLima observasi pertama dari data df:')\n",
        "\n",
        "HargaSaham.head()"
      ],
      "execution_count": null,
      "outputs": [
        {
          "output_type": "stream",
          "text": [
            "\n",
            "Lima observasi pertama dari data df:\n"
          ],
          "name": "stdout"
        },
        {
          "output_type": "execute_result",
          "data": {
            "text/html": [
              "<div>\n",
              "<style scoped>\n",
              "    .dataframe tbody tr th:only-of-type {\n",
              "        vertical-align: middle;\n",
              "    }\n",
              "\n",
              "    .dataframe tbody tr th {\n",
              "        vertical-align: top;\n",
              "    }\n",
              "\n",
              "    .dataframe thead th {\n",
              "        text-align: right;\n",
              "    }\n",
              "</style>\n",
              "<table border=\"1\" class=\"dataframe\">\n",
              "  <thead>\n",
              "    <tr style=\"text-align: right;\">\n",
              "      <th></th>\n",
              "      <th>Open</th>\n",
              "      <th>High</th>\n",
              "      <th>Low</th>\n",
              "      <th>Close</th>\n",
              "      <th>Volume</th>\n",
              "    </tr>\n",
              "  </thead>\n",
              "  <tbody>\n",
              "    <tr>\n",
              "      <th>0</th>\n",
              "      <td>1232.400024</td>\n",
              "      <td>1327.199951</td>\n",
              "      <td>1232.400024</td>\n",
              "      <td>1232.400024</td>\n",
              "      <td>426687</td>\n",
              "    </tr>\n",
              "    <tr>\n",
              "      <th>1</th>\n",
              "      <td>1232.400024</td>\n",
              "      <td>1303.500000</td>\n",
              "      <td>1232.400024</td>\n",
              "      <td>1303.500000</td>\n",
              "      <td>159810</td>\n",
              "    </tr>\n",
              "    <tr>\n",
              "      <th>2</th>\n",
              "      <td>1303.500000</td>\n",
              "      <td>1303.500000</td>\n",
              "      <td>1232.400024</td>\n",
              "      <td>1232.400024</td>\n",
              "      <td>365506</td>\n",
              "    </tr>\n",
              "    <tr>\n",
              "      <th>3</th>\n",
              "      <td>1232.400024</td>\n",
              "      <td>1256.099976</td>\n",
              "      <td>1232.400024</td>\n",
              "      <td>1232.400024</td>\n",
              "      <td>71730</td>\n",
              "    </tr>\n",
              "    <tr>\n",
              "      <th>4</th>\n",
              "      <td>1232.400024</td>\n",
              "      <td>1256.099976</td>\n",
              "      <td>1232.400024</td>\n",
              "      <td>1232.400024</td>\n",
              "      <td>313290</td>\n",
              "    </tr>\n",
              "  </tbody>\n",
              "</table>\n",
              "</div>"
            ],
            "text/plain": [
              "          Open         High          Low        Close  Volume\n",
              "0  1232.400024  1327.199951  1232.400024  1232.400024  426687\n",
              "1  1232.400024  1303.500000  1232.400024  1303.500000  159810\n",
              "2  1303.500000  1303.500000  1232.400024  1232.400024  365506\n",
              "3  1232.400024  1256.099976  1232.400024  1232.400024   71730\n",
              "4  1232.400024  1256.099976  1232.400024  1232.400024  313290"
            ]
          },
          "metadata": {
            "tags": []
          },
          "execution_count": 2
        }
      ]
    },
    {
      "cell_type": "code",
      "metadata": {
        "id": "-HxqPxpYUvst",
        "outputId": "65eb4960-0c6e-4c63-e351-9936329024aa",
        "colab": {
          "base_uri": "https://localhost:8080/",
          "height": 34
        }
      },
      "source": [
        "#Jumlah komponen baris dari data HargaSaham merupakan jumlah seluruh observasi \n",
        "#dari data: sebesar 3639 observasi\n",
        "#Berikut dimensi data df\n",
        "\n",
        "print('Dimensi dari data time series harga saham: ', HargaSaham.shape)"
      ],
      "execution_count": null,
      "outputs": [
        {
          "output_type": "stream",
          "text": [
            "Dimensi dari data time series harga saham:  (3639, 5)\n"
          ],
          "name": "stdout"
        }
      ]
    },
    {
      "cell_type": "code",
      "metadata": {
        "id": "UOdroHQzUvsx",
        "outputId": "1515c329-9a00-4d9e-ac5b-2134046c8926",
        "colab": {
          "base_uri": "https://localhost:8080/",
          "height": 265
        }
      },
      "source": [
        "#Model CNN akan dipergunakan untuk memodelkan harga saham pada saat Close:\n",
        "\n",
        "y_close = HargaSaham['Close']\n",
        "\n",
        "plt.plot(y_close)\n",
        "plt.show()"
      ],
      "execution_count": null,
      "outputs": [
        {
          "output_type": "display_data",
          "data": {
            "image/png": "[encoded data removed]",
            "text/plain": [
              "<Figure size 432x288 with 1 Axes>"
            ]
          },
          "metadata": {
            "tags": [],
            "needs_background": "light"
          }
        }
      ]
    },
    {
      "cell_type": "markdown",
      "metadata": {
        "id": "QQ26QKnLUvs0"
      },
      "source": [
        "Mula-mula setiap data time series yang akan dipergunakan di dalam pemodelan CNN akan diubah dulu menjadi data time series dengan nilai minimum 0 dan nilai maksimum 1. Ini tidak akan mempengaruhi pergerakan dinamik dari harga saham. Hal ini akan diperlihatkan dengan gambar di bawah.\n",
        "\n",
        "Keuntungannya, bila data sudah ditransormasi maka kehadiran data yang berbeda-beda *unit of measurement*-nya seperti harga saham dan volume akan sangat menguntungkan sewaktu iterasi berjalan. Data yang sudah ditransformasi ini bisa membuat jangkauan perubahan parameternya sewaktu algoritma sedang berjalan tidak perlu terlalu lebar. Dengan demikian bisa dihemat waktu iterasinya. \n",
        "\n",
        "Bila data belum ditransformasi, ada parameter yang perlu berubah untuk mencapai nilai yang dituju nilainya mungkin kecil sekali. Namun bisa jadi ada parameter lain yang membutuhkan perubahan parameter untuk menuju nilai yang besar sekali. Ini karena adanya perbedaan unit of measurement itu dari kedua variabel tersebut."
      ]
    },
    {
      "cell_type": "code",
      "metadata": {
        "id": "UHTOvKmeUvs1",
        "outputId": "c6807e23-61c4-4b26-aff5-48f9f71b24c4",
        "colab": {
          "base_uri": "https://localhost:8080/",
          "height": 265
        }
      },
      "source": [
        "scaler = MinMaxScaler(feature_range=(0,1))      #ditransformasi jadi di range 0-1 pake min-max\n",
        "HargaSaham = scaler.fit_transform(HargaSaham)   #Jadi numpy array, tidak lagi pandas. Nah ini eksekusinya. Jadi fit nyimpen mu dan std terus transfrom ngitungnya\n",
        "\n",
        "y_close = HargaSaham[:,3]\n",
        "\n",
        "plt.plot(y_close)\n",
        "plt.show()"
      ],
      "execution_count": null,
      "outputs": [
        {
          "output_type": "display_data",
          "data": {
            "image/png": "[encoded data removed]",
            "text/plain": [
              "<Figure size 432x288 with 1 Axes>"
            ]
          },
          "metadata": {
            "tags": [],
            "needs_background": "light"
          }
        }
      ]
    },
    {
      "cell_type": "markdown",
      "metadata": {
        "id": "ymNXGgiPUvs5"
      },
      "source": [
        "> Sekalipun data time series dari harga saham sudah ditransformasi nilainya, pergerakan dinamiknya masih utuh seperti data harga saham aslinya, hanya beda skala (lihat satuan di sumbe tegak). Bandingkan gambar ini dengan gambar di atas.\n",
        ">\n",
        "> Jadi pada prinsipnya akan sama saja memodelkan harga saham dengan data aslinya atau dengan data yang telah ditransformasi. Hanya saja data time series yang sudah ditransformasi akan memudahkan iterasi untuk berjalan.\n",
        ">\n",
        "> Tentu saja setiap saat kita bisa memperoleh kembali data time series harga saham aslinya dari data harga saham yang telah ditransformasi melalui instuksi berikut\n",
        "\n",
        "> **scaler.inverse_transform(df)**"
      ]
    },
    {
      "cell_type": "code",
      "metadata": {
        "id": "oDxsfbCiUvs6",
        "outputId": "837f78da-1a71-44ab-dcfa-a2e0b3d06512",
        "colab": {
          "base_uri": "https://localhost:8080/",
          "height": 333
        }
      },
      "source": [
        "HS = scaler.inverse_transform(HargaSaham)\n",
        "y_close2 = HS[:,2]\n",
        "\n",
        "#Bisa dilihat di bawah bahwa data harga saham aslinya segera bisa diperoleh \n",
        "#kembalidan gambar plot-nya juga masih sama.\n",
        "\n",
        "print('Lima observasi pertama dari harga saham setelah ditransformasi telah kembali ke nilai aslinya:\\n',)\n",
        "print(y_close2[0:5],'\\n')\n",
        "\n",
        "plt.plot(y_close2)                  \n",
        "plt.show()"
      ],
      "execution_count": null,
      "outputs": [
        {
          "output_type": "stream",
          "text": [
            "Lima observasi pertama dari harga saham setelah ditransformasi telah kembali ke nilai aslinya:\n",
            "\n",
            "[1232.400024 1232.400024 1232.400024 1232.400024 1232.400024] \n",
            "\n"
          ],
          "name": "stdout"
        },
        {
          "output_type": "display_data",
          "data": {
            "image/png": "[encoded data removed]",
            "text/plain": [
              "<Figure size 432x288 with 1 Axes>"
            ]
          },
          "metadata": {
            "tags": [],
            "needs_background": "light"
          }
        }
      ]
    },
    {
      "cell_type": "markdown",
      "metadata": {
        "id": "N5FcZ9jWUvs-"
      },
      "source": [
        "Selanjutnya data akan dipisah menjadi dua: sebagian dipergunakan untukt training, sebagian yang lain tuntuk dipergunakan saat testing"
      ]
    },
    {
      "cell_type": "code",
      "metadata": {
        "id": "XkNQhhNEUvs-"
      },
      "source": [
        "ntrain = 3000   #Sebanyak 3000 dari 3639 observasi akan digunakan untuk trianing\n",
        "                #sisanya akan dipergunakan untuk testing\n",
        "\n",
        "train = HargaSaham[0:ntrain]\n",
        "test  = HargaSaham[ntrain:len(HargaSaham)]\n",
        "\n",
        "y_close_train = y_close[0:ntrain]\n",
        "y_close_test  = y_close[ntrain:len(y_close)]"
      ],
      "execution_count": null,
      "outputs": []
    },
    {
      "cell_type": "code",
      "metadata": {
        "id": "CGWExai1UvtC",
        "outputId": "2314aead-3c59-4985-e1d6-efdc30ee248a",
        "colab": {
          "base_uri": "https://localhost:8080/",
          "height": 34
        }
      },
      "source": [
        "y_close_test.shape"
      ],
      "execution_count": null,
      "outputs": [
        {
          "output_type": "execute_result",
          "data": {
            "text/plain": [
              "(639,)"
            ]
          },
          "metadata": {
            "tags": []
          },
          "execution_count": 8
        }
      ]
    },
    {
      "cell_type": "markdown",
      "metadata": {
        "id": "4I1j1qhyUvtG"
      },
      "source": [
        "Berikut ini akan disusun serangkaian time series harga saham pada saat Open, High, Low, Close, serta Volume perdagangan untuk Bank BNI sesuai dengan _timesteps_ yang sudah kita pelajari sebelumnya. Hasil olahan data ini kelak akan dipakai untuk menyusun matriks data yang akan diperlakukan seperti data pixel untuk gambar. Inilah celah yang dipergunakan untuk memakai model CNN untuk data time series dengan penyertaan variabel-variabel lain yang relevan. \n",
        "\n",
        "Sebagai contoh, akan dipilih timesteps sebesar 10. Dari 5 variabels untuk harga saham Bank BNI yang sudah didownload tadi bisa diolah data time seriesnya sesuai dengan timestep yang kita pilih. Hasilnya, setiap variabel seolah telah memberikan tambahan 10 buah variabel baru. Akibatnya untuk setiap observari dari harga saham akan terbentuk matriks berukuran 10 X 5. Matriks ini bisa diperlakukan seperti sebuah gambar dan bisa dioleh dengan convolution.\n",
        "\n",
        "Hanya saja pilihan filter (atau kernel) dari convolution-nya sangat terbatas agar tidak merusak struktur urutan waktu di data time series. Misalnya, pilihan filternya (kernelnya) bisa berupa (1,2) atau (1,3) atau (1,4) dan seterusnya. Ini artinya, filter hanya berjalan melalui tiap variabel pada observasi yang sama. "
      ]
    },
    {
      "cell_type": "code",
      "metadata": {
        "id": "lgMmjVNkUvtG",
        "outputId": "f5a41fa9-d87a-45bf-cf50-29aeb03240fa",
        "colab": {
          "base_uri": "https://localhost:8080/",
          "height": 85
        }
      },
      "source": [
        "import numpy as np\n",
        "\n",
        "def to_sequences(seq_size, data,close):\n",
        "    x = []\n",
        "    y = []\n",
        "\n",
        "    for i in range(len(data)-seq_size-1):\n",
        "        window = data[i:(i+seq_size)]\n",
        "        after_window = close[i+seq_size]\n",
        "        window = [[x] for x in window]\n",
        "        x.append(window)\n",
        "        y.append(after_window)\n",
        "        \n",
        "    return np.array(x),np.array(y)\n",
        "\n",
        "\n",
        "timesteps = 10  #Setiap variabel akan menciptakan 10 variables (features) baru\n",
        "                #Data akan berkurang sebayak 11 observasi\n",
        "\n",
        "x_train, y_train = to_sequences(timesteps, train, y_close_train)\n",
        "x_test, y_test   = to_sequences(timesteps, test, y_close_test)\n",
        "\n",
        "print(\"Shape of x_train: {}\".format(x_train.shape))\n",
        "print(\"Shape of x_test: {}\".format(x_test.shape))\n",
        "print(\"Shape of y_train: {}\".format(y_train.shape))\n",
        "print(\"Shape of y_test: {}\".format(y_test.shape))"
      ],
      "execution_count": null,
      "outputs": [
        {
          "output_type": "stream",
          "text": [
            "Shape of x_train: (2989, 10, 1, 5)\n",
            "Shape of x_test: (628, 10, 1, 5)\n",
            "Shape of y_train: (2989,)\n",
            "Shape of y_test: (628,)\n"
          ],
          "name": "stdout"
        }
      ]
    },
    {
      "cell_type": "markdown",
      "metadata": {
        "id": "8sSK5_8oUvtN"
      },
      "source": [
        "Setelah data time series dioleh sesuai dengan timesteps, maka jumlah observasi untuk training dan testing jadi berubah. Masing-masing berkurang sebanyak 11 observasi. Data untuk trianing semula sebanyak 3000 observasi, kini menjadi 2989 observasi. Demikian pula data untuk testing yang semula 639 observasi kini menjadi 628 observasi."
      ]
    },
    {
      "cell_type": "code",
      "metadata": {
        "id": "2WpRF9sBUvtO"
      },
      "source": [
        "x_train = np.reshape(x_train,(x_train.shape[0], x_train.shape[2], x_train.shape[1],x_train.shape[3]))\n",
        "x_test = np.reshape(x_test,(x_test.shape[0],x_test.shape[2],x_test.shape[1],x_test.shape[3]))"
      ],
      "execution_count": null,
      "outputs": []
    },
    {
      "cell_type": "code",
      "metadata": {
        "id": "Ka29ZdnOUvtS",
        "outputId": "18e63a33-ac0e-468e-acac-3658cc7d38bb",
        "colab": {
          "base_uri": "https://localhost:8080/",
          "height": 34
        }
      },
      "source": [
        "print(x_train.shape)"
      ],
      "execution_count": null,
      "outputs": [
        {
          "output_type": "stream",
          "text": [
            "(2989, 1, 10, 5)\n"
          ],
          "name": "stdout"
        }
      ]
    },
    {
      "cell_type": "markdown",
      "metadata": {
        "id": "fbPFX3FnUvtW"
      },
      "source": [
        "Sampai tahap ini persiapan data sudah selesai. Data ini sudah siap dipakai untuk pemodelan CNN."
      ]
    },
    {
      "cell_type": "markdown",
      "metadata": {
        "id": "aPPYPV6CUvtX"
      },
      "source": [
        "#### CNN Model  ###\n",
        "\n",
        "Berikut ini akan digunakan aplikasi **Keras** untuk memodelkan harga saham Bank BNI \n",
        "dengan model CNN.\n"
      ]
    },
    {
      "cell_type": "code",
      "metadata": {
        "id": "OsS3ut4TUvtX",
        "outputId": "e9f9cf31-ac0c-4b0f-8cc2-b342886c2681",
        "colab": {
          "base_uri": "https://localhost:8080/",
          "height": 51
        }
      },
      "source": [
        "import numpy as np\n",
        "import pandas as pd\n",
        "\n",
        "import tensorflow as tf\n",
        "import keras\n",
        "from keras.models import Sequential\n",
        "from keras.layers.core import Dense, Activation, Flatten\n",
        "from keras.callbacks import ModelCheckpoint\n",
        "from keras.callbacks import EarlyStopping\n",
        "from keras.models import Sequential\n",
        "from keras.layers.core import Dense, Activation, Flatten\n",
        "from keras.optimizers import Adam\n",
        "from keras.layers import Conv1D, Conv2D, MaxPooling2D\n",
        "from sklearn import metrics\n",
        "from sklearn.model_selection import train_test_split\n",
        "from sklearn.metrics import mean_squared_error,r2_score\n",
        "from sklearn.preprocessing import MinMaxScaler\n",
        "import csv\n",
        "import collections\n",
        "from scipy.stats import zscore\n",
        "from datetime import datetime\n",
        "import matplotlib.pyplot as plt\n",
        "\n",
        "physical_devices = tf.config.experimental.list_physical_devices('GPU')\n",
        "print(\"physical_devices-------------\", len(physical_devices))\n",
        "tf.config.experimental.set_memory_growth(physical_devices[0], True)"
      ],
      "execution_count": null,
      "outputs": [
        {
          "output_type": "stream",
          "text": [
            "Using TensorFlow backend.\n"
          ],
          "name": "stderr"
        },
        {
          "output_type": "stream",
          "text": [
            "physical_devices------------- 1\n"
          ],
          "name": "stdout"
        }
      ]
    },
    {
      "cell_type": "code",
      "metadata": {
        "id": "vMJ28_P7Uvtb",
        "outputId": "4fbeffff-c0b0-4bc6-a5bf-6070b8a91160",
        "colab": {
          "base_uri": "https://localhost:8080/",
          "height": 595
        }
      },
      "source": [
        "#Untuk setiap observasi, mula-mula lakukan convolution pada matriks (10,5) \n",
        "#Pada contoh ini pada setiap observasi hanya dilakukan convolution sekali saja \n",
        "#dengan filter (kernel) berukuran (1,4). Hasilnya matriks data berukuran (10,2)\n",
        "\n",
        "cnn = Sequential()\n",
        "cnn.add(Conv2D(10, kernel_size = (1, 4), strides = (1, 1),  padding = 'valid', \n",
        "               activation = 'relu', input_shape = (1,10,5)))\n",
        "\n",
        "#Pada setiap baris dari matriks (10,2) yang dihasilkan oleh convolution akan \n",
        "#dilih satu nilai yang terbesar sebagi wakilnya melalui penggunaan \n",
        "#MaxPooling dengan filter (1,2)\n",
        "#Hasilnya berupa matriks (vektor) berukuran (10,1)\n",
        "\n",
        "cnn.add(MaxPooling2D(pool_size = (1,2)))\n",
        "\n",
        "#Matriks berukuran (10,1) hasil dari MaxPooling ini akan dipandang \n",
        "#sebagi input bagi hidden layer dengan 7 neurons\n",
        "\n",
        "cnn.add(Flatten())\n",
        "cnn.add(Dense(30, activation=\"relu\"))\n",
        "\n",
        "cnn.summary()   \n",
        "cnn.add(Dense(1, activation=\"relu\"))\n",
        "cnn.summary()\n",
        "    \n",
        "# define optimizer and objective, compile cnn\n",
        "\n",
        "cnn.compile(loss='mean_squared_error', optimizer='adam')\n",
        "\n",
        "monitor = EarlyStopping(monitor='val_loss', min_delta=1, patience=2, verbose=2, mode='auto') \n",
        "checkpointer = ModelCheckpoint(filepath=\"CNN_Parameters_BNI.hdf5\", verbose=0, save_best_only=True) # save best model"
      ],
      "execution_count": null,
      "outputs": [
        {
          "output_type": "stream",
          "text": [
            "Model: \"sequential_1\"\n",
            "_________________________________________________________________\n",
            "Layer (type)                 Output Shape              Param #   \n",
            "=================================================================\n",
            "conv2d_1 (Conv2D)            (None, 1, 7, 10)          210       \n",
            "_________________________________________________________________\n",
            "max_pooling2d_1 (MaxPooling2 (None, 1, 3, 10)          0         \n",
            "_________________________________________________________________\n",
            "flatten_1 (Flatten)          (None, 30)                0         \n",
            "_________________________________________________________________\n",
            "dense_1 (Dense)              (None, 30)                930       \n",
            "=================================================================\n",
            "Total params: 1,140\n",
            "Trainable params: 1,140\n",
            "Non-trainable params: 0\n",
            "_________________________________________________________________\n",
            "Model: \"sequential_1\"\n",
            "_________________________________________________________________\n",
            "Layer (type)                 Output Shape              Param #   \n",
            "=================================================================\n",
            "conv2d_1 (Conv2D)            (None, 1, 7, 10)          210       \n",
            "_________________________________________________________________\n",
            "max_pooling2d_1 (MaxPooling2 (None, 1, 3, 10)          0         \n",
            "_________________________________________________________________\n",
            "flatten_1 (Flatten)          (None, 30)                0         \n",
            "_________________________________________________________________\n",
            "dense_1 (Dense)              (None, 30)                930       \n",
            "_________________________________________________________________\n",
            "dense_2 (Dense)              (None, 1)                 31        \n",
            "=================================================================\n",
            "Total params: 1,171\n",
            "Trainable params: 1,171\n",
            "Non-trainable params: 0\n",
            "_________________________________________________________________\n"
          ],
          "name": "stdout"
        }
      ]
    },
    {
      "cell_type": "code",
      "metadata": {
        "id": "P0u7nBCnUvte",
        "outputId": "80a600fe-096b-41ab-f18a-81bde04a07fa",
        "colab": {
          "base_uri": "https://localhost:8080/",
          "height": 34
        }
      },
      "source": [
        "tic = datetime.now()\n",
        "\n",
        "cnn.fit(x_train,y_train,validation_split=0.001,callbacks=[checkpointer],verbose=0,epochs = 300)\n",
        "\n",
        "toc = datetime.now()\n",
        "\n",
        "print(\"Waktu yang diperlukan untuk menyelesaikan iterasi: \", toc-tic)"
      ],
      "execution_count": null,
      "outputs": [
        {
          "output_type": "stream",
          "text": [
            "Waktu yang diperlukan untuk menyelesaikan iterasi:  0:01:20.257418\n"
          ],
          "name": "stdout"
        }
      ]
    },
    {
      "cell_type": "markdown",
      "metadata": {
        "id": "-_jetr8BUvth"
      },
      "source": [
        "Hanya diperlukan waktu sekitar dua menit untuk menyelesaikan model CNN yang paling sederhana untuk data time series harga saham Bank BNI dengan 300 epochs."
      ]
    },
    {
      "cell_type": "code",
      "metadata": {
        "id": "pefN-cB0Uvth",
        "outputId": "288c168a-35bd-49e5-b757-850836f4764f",
        "colab": {
          "base_uri": "https://localhost:8080/",
          "height": 51
        }
      },
      "source": [
        "#Di atas tadi telah disimpan parameter dari model CNN dengan nama CNN_Parameters_BNI dalam\n",
        "#format hdf5. Ketika Notebook ini dijalankan, maka akan tersimpan parameter \n",
        "#tersebut di folder yang sama. Sekarang dipanggil lagi utnuk melakukan prediksi.\n",
        "\n",
        "cnn.load_weights('CNN_Parameters_BNI.hdf5')\n",
        "\n",
        "pred = cnn.predict(x_test)\n",
        "print(\"Shape: {}\".format(pred.shape))\n",
        "print(pred[0])"
      ],
      "execution_count": null,
      "outputs": [
        {
          "output_type": "stream",
          "text": [
            "Shape: (628, 1)\n",
            "[0.6246123]\n"
          ],
          "name": "stdout"
        }
      ]
    },
    {
      "cell_type": "code",
      "metadata": {
        "id": "a-r9kYM4Uvtk",
        "outputId": "83501296-01b0-4388-d4c3-c1f8eab03634",
        "colab": {
          "base_uri": "https://localhost:8080/",
          "height": 34
        }
      },
      "source": [
        "# Measure RMSE error.  RMSE is common for regression.\n",
        "score = np.sqrt(metrics.mean_squared_error(y_test, pred))\n",
        "print(\"Final score (RMSE): {}\".format(score))"
      ],
      "execution_count": null,
      "outputs": [
        {
          "output_type": "stream",
          "text": [
            "Final score (RMSE): 0.03187712843061091\n"
          ],
          "name": "stdout"
        }
      ]
    },
    {
      "cell_type": "code",
      "metadata": {
        "id": "-791_maKUvtn",
        "outputId": "a164770a-fd5d-46a3-e23d-abd6c9f0e736",
        "colab": {
          "base_uri": "https://localhost:8080/",
          "height": 265
        }
      },
      "source": [
        "plt.plot(y_test, label = 'actual')\n",
        "plt.plot(pred,   label = 'predicted')\n",
        "plt.legend()\n",
        "plt.show()"
      ],
      "execution_count": null,
      "outputs": [
        {
          "output_type": "display_data",
          "data": {
            "image/png": "[encoded data removed]",
            "text/plain": [
              "<Figure size 432x288 with 1 Axes>"
            ]
          },
          "metadata": {
            "tags": [],
            "needs_background": "light"
          }
        }
      ]
    },
    {
      "cell_type": "markdown",
      "metadata": {
        "id": "UuAj20OGUvtr"
      },
      "source": [
        "Hasil prediksi ini diperoleh dari model CNN yang sangat minimalis. Hasilnya lumayan bukan? Pada prediksi kali ini *convolution* hanya dihitung sekali untuk setiap iterasi. Angka 1 di **cnn.add(Conv2D(1,...** mengindikasikan itu. Tentu saja angka ini bisa diganti-ganti. Ini merupakan hyperparameters yang boleh diganti-ganti.\n",
        "\n",
        "Demikian pula pada layer bagian *fully connected network* hanya digunakan 7 buah neurons. Angka 7 di **cnn.add(Dense(7,...** mengindikasikan itu. Angka ini pun boleh diganti-ganti.\n",
        "\n",
        "Setiap saat mulailah dari model yang paling sederhana dulu. Model boleh semakin rumit bila memang ada kebutuhannya."
      ]
    }
  ]
}